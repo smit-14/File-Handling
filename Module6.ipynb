{
  "nbformat": 4,
  "nbformat_minor": 0,
  "metadata": {
    "colab": {
      "provenance": []
    },
    "kernelspec": {
      "name": "python3",
      "display_name": "Python 3"
    },
    "language_info": {
      "name": "python"
    }
  },
  "cells": [
    {
      "cell_type": "markdown",
      "source": [
        "Theory Question"
      ],
      "metadata": {
        "id": "wzKKt2FYovLC"
      }
    },
    {
      "cell_type": "markdown",
      "source": [
        "1. What is the difference between interpreted and compiled languages?\n",
        "- The main difference between interpreted and compiled languages lies in how they execute code.\n",
        "\n",
        "- Compiled Languages\n",
        "  - The code is translated into machine code before execution using a compiler.\n",
        "  - The compiler produces an executable file, which can run independently of the source code.\n",
        "  - Examples: C, C++, Rust, Go\n",
        "  - Pros: Faster execution, better optimization, no need for an interpreter at runtime.\n",
        "  - Cons: Slower development cycle (compilation takes time), platform-dependent executables.\n",
        "- Interpreted Languages\n",
        "  - The code is executed line by line at runtime using an interpreter.\n",
        "  - No separate compilation step; execution happens dynamically.\n",
        "  - Examples: Python, JavaScript, Ruby, PHP\n",
        "  - Pros: Easier debugging, more flexible, platform-independent.\n",
        "  - Cons: Slower execution since code is translated on the fly, dependent on the interpreter\n",
        "\n",
        "2. What is exception handling in Python?\n",
        "- Exception Handling (Theory)\n",
        "  - Exception handling is a mechanism that allows programs to handle runtime errors gracefully instead of crashing. It separates normal execution from error handling, improving stability and maintainability.\n",
        "\n",
        "\n",
        "\n",
        "3. What is the purpose of the finally block in exception handling?\n",
        "- Purpose of the finally Block in Exception Handling\n",
        "  - The finally block is used to execute code regardless of whether an exception occurs or not. It ensures that cleanup operations (e.g., closing files, releasing resources) always run.\n",
        "\n",
        "4. What is logging in Python?\n",
        "- Logging in Python\n",
        " - Logging in Python is used to track events in a program, making debugging and monitoring easier. Instead of using print(), the logging module provides a more flexible and structured way to record messages.\n",
        "\n",
        "5. What is the significance of the __del__ method in Python?\n",
        "- Significance of the __del__ Method in Python\n",
        "  - The __del__ method, also known as the destructor, is called when an object is about to be destroyed. It is primarily used for cleanup operations such as closing files, releasing resources, or deallocating memory.\n",
        "\n",
        "6. What is the difference between import and from ... import in Python?\n",
        "- Difference: import vs. from ... import in Python\n",
        "Both import and from ... import are mechanisms for namespace management, determining how external code is accessed within a program.\n",
        "\n",
        "- import module (Full Import)\n",
        "\n",
        " - Loads the entire module into memory.\n",
        " - Functions and variables must be accessed using the module name (module.function).\n",
        " - Encapsulates names, reducing the risk of conflicts.\n",
        "- from module import name (Selective Import)\n",
        "\n",
        " - Imports specific components directly into the current namespace.\n",
        " - Access is faster (no need for module prefix).\n",
        " - Increases risk of name conflicts, especially in large programs.\n",
        "\n",
        "7. How can you handle multiple exceptions in Python?\n",
        "- Handling Multiple Exceptions in Python\n",
        "In exception handling theory, multiple exceptions can be managed using structured mechanisms to ensure robust error handling without program crashes.\n",
        "\n",
        " 1. Multiple except Blocks\n",
        " - Each except block handles a specific exception separately, making error resolution clearer.\n",
        "\n",
        " - Advantage: Granular control over each exception type.\n",
        " - Disadvantage: Can be verbose if many exceptions are expected.\n",
        " 2. Grouping Exceptions in a Tuple\n",
        " - A single except block can handle multiple related exceptions using a tuple.\n",
        "\n",
        " - Advantage: Reduces redundancy when similar actions are needed for multiple exceptions.\n",
        " - Disadvantage: Less specific handling of individual exceptions.\n",
        " 3. Catch-All Exception (except Exception)\n",
        " - A generic except block catches any exception that occurs.\n",
        "\n",
        " - Advantage: Ensures no uncaught exceptions crash the program.\n",
        " - Disadvantage: May hide unexpected errors, making debugging harder.\n",
        " 4. Using else and finally\n",
        " - else: Runs if no exception occurs, ensuring clean logic separation.\n",
        " - finally: Executes always, useful for cleanup operations.\n",
        "\n",
        "8. What is the purpose of the with statement when handling files in Python?\n",
        "- Purpose of the with Statement in File Handling (Python)\n",
        "The with statement in Python is used to handle files efficiently by ensuring that resources (like file handles) are properly managed. It automatically closes the file once the block is exited, even if an exception occurs.\n",
        "\n",
        "9. What is the difference between multithreading and multiprocessing?\n",
        "- Difference: Multithreading vs. Multiprocessing\n",
        " - Both multithreading and multiprocessing enable concurrent execution, but they differ in how tasks are managed and executed.\n",
        "\n",
        "- Multithreading\n",
        "\n",
        " - Runs multiple threads within a single process.\n",
        " - Threads share memory and resources, making communication between them efficient.\n",
        " - In Python, due to the Global Interpreter Lock (GIL), only one thread executes at a time, preventing true parallel execution in CPU-bound tasks.\n",
        " - Best for: I/O-bound operations (e.g., file handling, web scraping, network requests).\n",
        "- Multiprocessing\n",
        "\n",
        " - Runs multiple processes, each with its own memory space and Python interpreter.\n",
        " - Processes run truly in parallel on multiple CPU cores.\n",
        " - Higher memory usage compared to multithreading due to separate memory allocation.\n",
        " - Best for: CPU-bound operations (e.g., complex calculations, data processing).\n",
        "\n",
        "10. What are the advantages of using logging in a program?\n",
        "- Advantages of Using Logging in a Program\n",
        " - Better Debugging – Tracks errors and system behavior.\n",
        " - Controlled Output – Uses log levels (INFO, ERROR, etc.) to filter messages.\n",
        " - Persistent Logs – Saves logs to files for later analysis.\n",
        " - Thread-Safe – Works well in multi-threaded applications.\n",
        " - Performance Optimization – More efficient than print(), can be disabled in production.\n",
        " - Customizable & Structured – Supports timestamps, formatting, and categorization.\n",
        " - Security & Compliance – Helps maintain an audit trail for sensitive events.\n",
        "\n",
        "11.  What is memory management in Python?\n",
        "- Memory Management in Python\n",
        " - Automatic Allocation & Deallocation – Python manages memory dynamically.\n",
        " - Garbage Collection (GC) – Removes unused objects to free memory.\n",
        " - Reference Counting – Tracks how many references an object has; deletes when count reaches zero.\n",
        " - Cyclic Garbage Collection – Detects and removes circular references.\n",
        " - Memory Pools & Allocators – Optimizes memory usage for small and large objects.\n",
        "\n",
        "12. What are the basic steps involved in exception handling in Python?\n",
        "- Basic Steps in Exception Handling in Python\n",
        " - Try Block (try) – Wrap the code that might raise an exception.\n",
        " - Catch Exception (except) – Handle the error if an exception occurs.\n",
        " - Multiple Exceptions (Optional) – Handle different exceptions separately or use a tuple.\n",
        " - Else Block (else, Optional) – Runs if no exceptions occur.\n",
        " - Finally Block (finally, Optional) – Executes always, used for cleanup.\n",
        "\n",
        "13. Why is memory management important in Python?\n",
        "- Importance of Memory Management in Python\n",
        " - Efficient Resource Utilization – Prevents excessive memory usage and optimizes performance.\n",
        " - Automatic Garbage Collection – Frees up unused memory, reducing leaks.\n",
        " - Prevents Memory Leaks – Detects and removes objects no longer in use.\n",
        " - Improves Performance – Proper allocation and deallocation keep programs running smoothly.\n",
        " - Supports Large-Scale Applications – Ensures scalability by handling memory efficiently.\n",
        "\n",
        "14. What is the role of try and except in exception handling?\n",
        "- Role of try and except in Exception Handling\n",
        " - try Block – Encapsulates code that might raise an exception.\n",
        " - except Block – Catches and handles the exception if it occurs.\n",
        "- How They Work:\n",
        " - If no error occurs, the except block is skipped.\n",
        " - If an exception is raised, execution jumps to the appropriate except block.\n",
        " - Prevents program crashes by handling errors gracefully.\n",
        "\n",
        "15. How does Python's garbage collection system work?\n",
        "- Python’s garbage collection (GC) system automatically manages memory by reclaiming unused objects, preventing memory leaks. It works using:\n",
        "\n",
        " 1. Reference Counting\n",
        " - Each object has a reference count (number of variables pointing to it).\n",
        " - When the count reaches zero, the memory is freed.\n",
        "\n",
        " 2. Cyclic Garbage Collection\n",
        " - Detects circular references (e.g., objects referencing each other).\n",
        " - Python’s gc module periodically scans and removes such cycles.\n",
        "\n",
        " 3. Generational Garbage Collection\n",
        " - Objects are divided into three generations (young, middle-aged, old).\n",
        " - Frequent objects are collected sooner; long-lived ones are checked less often.\n",
        "\n",
        "16. What is the purpose of the else block in exception handling?\n",
        "- Purpose of the else Block in Exception Handling\n",
        " - The else block in Python's exception handling is used to execute code only if no exceptions occur in the try block.\n",
        "\n",
        "- Key Benefits:\n",
        " - Ensures clean separation between normal and error-handling code.\n",
        " - Improves code readability by keeping non-error logic separate.\n",
        " - Avoids running unnecessary code inside the try block.\n",
        "\n",
        "17. What are the common logging levels in Python?\n",
        "- Logging Levels in Python\n",
        " - Logging levels in Python classify messages based on their severity, allowing structured error tracking and system monitoring.\n",
        "\n",
        " 1. DEBUG (10) – Provides detailed diagnostic information, useful for debugging.\n",
        " 2. INFO (20) – Records general operational messages that confirm the program is working as expected.\n",
        " 3. WARNING (30) – Indicates a potential problem that does not stop execution.\n",
        " 4. ERROR (40) – Signals a serious issue that prevents part of the program from functioning correctly.\n",
        " 5. CRITICAL (50) – Represents a severe error that may cause the entire system to fail.\n",
        "\n",
        "18. What is the difference between os.fork() and multiprocessing in Python?\n",
        "- Difference: os.fork() vs. multiprocessing in Python\n",
        " - Both os.fork() and the multiprocessing module create new processes, but they differ in how they do it and their portability.\n",
        "\n",
        "- os.fork() (Low-Level, Unix-Specific)\n",
        "\n",
        " - Directly creates a child process by duplicating the parent process.\n",
        " - Child and parent share memory (copy-on-write) until modifications occur.\n",
        " - Limited to Unix-based systems (not available on Windows).\n",
        " - Requires manual process management (e.g., handling process termination).\n",
        "- multiprocessing (High-Level, Cross-Platform)\n",
        "\n",
        " - Uses the Process class to spawn new processes independently.\n",
        " - Each process has its own memory space, avoiding conflicts.\n",
        " - Works on Windows, macOS, and Linux.\n",
        " - Provides built-in tools for process management, communication, and synchronization.\n",
        "\n",
        "19. What is the importance of closing a file in Python?\n",
        "- Closing a file in Python using file.close() or the with statement ensures proper resource management.\n",
        "\n",
        "- Key Reasons for Closing a File:\n",
        " - Releases System Resources – Frees up memory and file handles, preventing resource leaks.\n",
        " - Ensures Data is Saved – Flushes any buffered data to disk, ensuring all writes are committed.\n",
        " - Prevents File Corruption – Avoids data loss or corruption due to incomplete writes.\n",
        " - Allows Other Processes to Access the File – Some operating systems lock open files, restricting access.\n",
        " - Improves Code Reliability – Reduces unexpected behavior by ensuring files are properly closed.\n",
        "\n",
        "20. What is the difference between file.read() and file.readline() in Python?\n",
        "- Difference: file.read() vs. file.readline()\n",
        " - Both methods are used to read data from a file but differ in how much they read at a time.\n",
        "\n",
        "- file.read(size)\n",
        "\n",
        " - Reads the entire file or up to size bytes if specified.\n",
        " - Returns a string containing the full content.\n",
        " - Efficient for small files, but memory-intensive for large files.\n",
        "- file.readline()\n",
        "\n",
        " - Reads one line at a time, stopping at a newline character (\\n).\n",
        " - Returns a string with the next line (including \\n).\n",
        " - Better for large files as it processes data line by line.\n",
        "\n",
        "21. What is the logging module in Python used for?\n",
        "- The logging module in Python is used for tracking events, debugging, and monitoring program execution. It provides a flexible way to log messages at different levels of severity.\n",
        "\n",
        "- Key Uses of the Logging Module:\n",
        " - Error Tracking – Captures and logs errors for debugging.\n",
        " - Program Monitoring – Records system behavior during execution.\n",
        " - Performance Analysis – Helps identify bottlenecks and inefficiencies.\n",
        " - Audit & Security Logs – Maintains logs for compliance and security checks.\n",
        " - Flexible Logging Levels – Supports different log levels (DEBUG, INFO, WARNING, ERROR, CRITICAL).\n",
        "\n",
        "22.  What is the os module in Python used for in file handling?\n",
        "- The os module in Python provides functions to interact with the operating system, allowing file and directory manipulation.\n",
        "\n",
        "- Key Uses in File Handling:\n",
        "  - File Operations → os.remove(), os.rename()\n",
        "  - Directory Handling → os.mkdir(), os.rmdir(), os.listdir()\n",
        "  - Path Management → os.path.exists(), os.path.join()\n",
        "  - Working Directory Control → os.getcwd(), os.chdir()\n",
        "\n",
        "23. What are the challenges associated with memory management in Python?\n",
        "- Challenges in Memory Management in Python\n",
        " - Garbage Collection Overhead – Python’s automatic garbage collector can introduce performance overhead, especially in large programs.\n",
        " - Memory Leaks – Improper object references (e.g., lingering global variables or circular references) can prevent garbage collection.\n",
        " - High Memory Usage – Python's dynamic typing and object overhead result in higher memory consumption compared to lower-level languages like C.\n",
        " - Fragmentation – Frequent allocations and deallocations can lead to inefficient memory usage and fragmentation.\n",
        " - Global Interpreter Lock (GIL) – Limits true parallel execution, affecting memory management in multi-threaded applications.\n",
        " - Manual Fine-Tuning Needed – In some cases, developers must optimize memory usage using techniques like gc.collect() and object pooling.\n",
        "\n",
        "24. How do you raise an exception manually in Python?\n",
        "- In Python, exceptions can be manually triggered using the raise keyword. This allows developers to enforce constraints, stop execution, or signal errors intentionally.\n",
        "\n",
        "- Key Concepts:\n",
        " - raise Statement – Used to explicitly trigger an exception.\n",
        " - Built-in Exceptions – Can raise predefined errors like ValueError, TypeError, etc.\n",
        " - Custom Exceptions – Developers can define their own exception classes by inheriting from Exception.\n",
        "- Use Cases:\n",
        " - Input validation (e.g., rejecting negative numbers).\n",
        " - Breaking execution when an invalid state is detected.\n",
        " - Improving error handling by using custom exception messages.\n",
        "\n",
        "25. Why is it important to use multithreading in certain applications?\n",
        "- Multithreading is crucial for improving the performance and responsiveness of applications by allowing multiple tasks to run concurrently within a single process.\n",
        "\n",
        "- Key Benefits:\n",
        " - Improves Responsiveness – Useful in GUI applications where background tasks (e.g., file loading) run without freezing the interface.\n",
        " - Efficient I/O Operations – Helps in applications that involve waiting for input/output (e.g., network requests, database queries).\n",
        " - Concurrency, Not True Parallelism – In Python, due to the Global Interpreter Lock (GIL), threads don’t run in true parallel but take turns executing.\n",
        " - Better Resource Utilization – Allows CPU and I/O-bound tasks to overlap, improving efficiency.\n",
        " - Faster Execution for I/O-Bound Tasks – Multithreading is ideal for tasks that involve waiting, such as web scraping or file downloads."
      ],
      "metadata": {
        "id": "ZqTAgYtKYEyC"
      }
    },
    {
      "cell_type": "markdown",
      "source": [
        "Practical Questions\n"
      ],
      "metadata": {
        "id": "TEFAgJTZpUaS"
      }
    },
    {
      "cell_type": "markdown",
      "source": [
        "1. How can you open a file for writing in Python and write a string to it?"
      ],
      "metadata": {
        "id": "YzdOzE45pYku"
      }
    },
    {
      "cell_type": "code",
      "source": [
        "# Open the file in write mode\n",
        "with open(\"example.txt\", \"w\") as file:\n",
        "    # Write a string to the file\n",
        "    file.write(\"Hello, world!\")\n",
        "\n",
        "# The file is automatically closed when the 'with' block ends"
      ],
      "metadata": {
        "id": "iakvucwLAk94"
      },
      "execution_count": null,
      "outputs": []
    },
    {
      "cell_type": "markdown",
      "source": [
        "2.  Write a Python program to read the contents of a file and print each line?"
      ],
      "metadata": {
        "id": "eMkF5gvmAmOE"
      }
    },
    {
      "cell_type": "code",
      "source": [
        "# Open the file in read mode\n",
        "with open(\"example.txt\", \"r\") as file:\n",
        "    # Read and print each line\n",
        "    for line in file:\n",
        "        print(line, end=\"\")  # end=\"\" prevents adding extra new lines"
      ],
      "metadata": {
        "id": "gPltUo6AAtzZ"
      },
      "execution_count": null,
      "outputs": []
    },
    {
      "cell_type": "markdown",
      "source": [
        "3. How would you handle a case where the file doesn't exist while trying to open it for reading?"
      ],
      "metadata": {
        "id": "KuVIBbgxA1tQ"
      }
    },
    {
      "cell_type": "code",
      "source": [
        "try:\n",
        "    # Attempt to open the file in read mode\n",
        "    with open(\"example.txt\", \"r\") as file:\n",
        "        for line in file:\n",
        "            print(line, end=\"\")  # Print each line\n",
        "except FileNotFoundError:\n",
        "    print(\"Error: The file does not exist.\")\n",
        "except Exception as e:\n",
        "    print(f\"An unexpected error occurred: {e}\")"
      ],
      "metadata": {
        "id": "DwXH0EqoBDWl"
      },
      "execution_count": null,
      "outputs": []
    },
    {
      "cell_type": "markdown",
      "source": [
        "4. Write a Python script that reads from one file and writes its content to another file?"
      ],
      "metadata": {
        "id": "GBuXBLFFBE_N"
      }
    },
    {
      "cell_type": "code",
      "execution_count": null,
      "metadata": {
        "id": "uNmwNC9jYCE2"
      },
      "outputs": [],
      "source": [
        "# Define source and destination file names\n",
        "source_file = \"source.txt\"\n",
        "destination_file = \"destination.txt\"\n",
        "\n",
        "try:\n",
        "    # Open the source file for reading\n",
        "    with open(source_file, \"r\") as src:\n",
        "        # Open the destination file for writing\n",
        "        with open(destination_file, \"w\") as dest:\n",
        "            # Read content from source and write to destination\n",
        "            for line in src:\n",
        "                dest.write(line)\n",
        "    print(f\"Contents copied from {source_file} to {destination_file} successfully.\")\n",
        "except FileNotFoundError:\n",
        "    print(f\"Error: The file {source_file} does not exist.\")\n",
        "except Exception as e:\n",
        "    print(f\"An unexpected error occurred: {e}\")"
      ]
    },
    {
      "cell_type": "markdown",
      "source": [
        "5. How would you catch and handle division by zero error in Python?"
      ],
      "metadata": {
        "id": "kRwRYuEPBVfZ"
      }
    },
    {
      "cell_type": "code",
      "source": [
        "try:\n",
        "    # Attempt to divide by zero\n",
        "    num = 10\n",
        "    denom = 0\n",
        "    result = num / denom\n",
        "    print(\"Result:\", result)\n",
        "except ZeroDivisionError:\n",
        "    print(\"Error: Division by zero is not allowed.\")\n",
        "except Exception as e:\n",
        "    print(f\"An unexpected error occurred: {e}\")"
      ],
      "metadata": {
        "id": "qv8l0i4eBnqx"
      },
      "execution_count": null,
      "outputs": []
    },
    {
      "cell_type": "markdown",
      "source": [
        "6. Write a Python program that logs an error message to a log file when a division by zero exception occurs?"
      ],
      "metadata": {
        "id": "s79BDyYKBy9r"
      }
    },
    {
      "cell_type": "code",
      "source": [
        "import logging\n",
        "\n",
        "# Configure logging to write errors to a file\n",
        "logging.basicConfig(filename=\"error.log\", level=logging.ERROR,\n",
        "                    format=\"%(asctime)s - %(levelname)s - %(message)s\")\n",
        "\n",
        "def divide_numbers(a, b):\n",
        "    try:\n",
        "        result = a / b\n",
        "        return result\n",
        "    except ZeroDivisionError:\n",
        "        logging.error(\"Division by zero attempted with a=%d and b=%d\", a, b)\n",
        "        return \"Error: Division by zero is not allowed.\"\n",
        "\n",
        "# Example usage\n",
        "num1 = 10\n",
        "num2 = 0\n",
        "print(divide_numbers(num1, num2))\n",
        "\n",
        "print(\"Check 'error.log' for details.\")"
      ],
      "metadata": {
        "id": "vK7g6LTtB6X0"
      },
      "execution_count": null,
      "outputs": []
    },
    {
      "cell_type": "markdown",
      "source": [
        "7. How do you log information at different levels (INFO, ERROR, WARNING) in Python using the logging module?"
      ],
      "metadata": {
        "id": "3zFj3-_8CISP"
      }
    },
    {
      "cell_type": "code",
      "source": [
        "import logging\n",
        "\n",
        "# Configure logging\n",
        "logging.basicConfig(filename=\"app.log\", level=logging.DEBUG,\n",
        "                    format=\"%(asctime)s - %(levelname)s - %(message)s\")\n",
        "\n",
        "# Log messages at different levels\n",
        "logging.debug(\"This is a debug message (useful for troubleshooting).\")\n",
        "logging.info(\"This is an info message (general program status).\")\n",
        "logging.warning(\"This is a warning message (something might be wrong).\")\n",
        "logging.error(\"This is an error message (an operation failed).\")\n",
        "logging.critical(\"This is a critical message (severe error, program might crash).\")\n",
        "\n",
        "print(\"Logging complete. Check 'app.log' for details.\")"
      ],
      "metadata": {
        "id": "v4jiTfvxBtgZ"
      },
      "execution_count": null,
      "outputs": []
    },
    {
      "cell_type": "markdown",
      "source": [
        "8. Write a program to handle a file opening error using exception handling?"
      ],
      "metadata": {
        "id": "t9NpgCcsCbgL"
      }
    },
    {
      "cell_type": "code",
      "source": [
        "try:\n",
        "    # Attempt to open a file that may not exist\n",
        "    with open(\"non_existent_file.txt\", \"r\") as file:\n",
        "        content = file.read()\n",
        "        print(content)\n",
        "except FileNotFoundError:\n",
        "    print(\"Error: The file does not exist. Please check the filename and try again.\")\n",
        "except PermissionError:\n",
        "    print(\"Error: Permission denied. You don't have access to this file.\")\n",
        "except Exception as e:\n",
        "    print(f\"An unexpected error occurred: {e}\")"
      ],
      "metadata": {
        "id": "h_r0OLPoCgqS"
      },
      "execution_count": null,
      "outputs": []
    },
    {
      "cell_type": "markdown",
      "source": [
        "9. How can you read a file line by line and store its content in a list in Python?"
      ],
      "metadata": {
        "id": "qMLcE6qxCjyY"
      }
    },
    {
      "cell_type": "code",
      "source": [
        "with open(\"example.txt\", \"r\") as file:\n",
        "    lines = file.readlines()  # Reads all lines into a list\n",
        "\n",
        "print(lines)  # Each line is stored as a separate string in the list"
      ],
      "metadata": {
        "id": "hMNtJQTxCqAh"
      },
      "execution_count": null,
      "outputs": []
    },
    {
      "cell_type": "markdown",
      "source": [
        "10. How can you append data to an existing file in Python?"
      ],
      "metadata": {
        "id": "oALsRkvaCxY3"
      }
    },
    {
      "cell_type": "code",
      "source": [
        "# Open the file in append mode\n",
        "with open(\"example.txt\", \"a\") as file:\n",
        "    file.write(\"\\nThis is new appended text.\")  # Append text to the file\n",
        "\n",
        "print(\"Data appended successfully.\")"
      ],
      "metadata": {
        "id": "degmGemHC5Ph"
      },
      "execution_count": null,
      "outputs": []
    },
    {
      "cell_type": "markdown",
      "source": [
        "11.  Write a Python program that uses a try-except block to handle an error when attempting to access a\n",
        "dictionary key that doesn't exist?"
      ],
      "metadata": {
        "id": "hVI2agfPC85U"
      }
    },
    {
      "cell_type": "code",
      "source": [
        "# Sample dictionary\n",
        "student_scores = {\n",
        "    \"Alice\": 85,\n",
        "    \"Bob\": 90,\n",
        "    \"Charlie\": 78\n",
        "}\n",
        "\n",
        "try:\n",
        "    # Attempt to access a key that may not exist\n",
        "    name = \"David\"\n",
        "    score = student_scores[name]\n",
        "    print(f\"{name}'s score is {score}.\")\n",
        "except KeyError:\n",
        "    print(f\"Error: The key '{name}' does not exist in the dictionary.\")"
      ],
      "metadata": {
        "id": "DE4ifG1vDEee"
      },
      "execution_count": null,
      "outputs": []
    },
    {
      "cell_type": "markdown",
      "source": [
        "12. Write a program that demonstrates using multiple except blocks to handle different types of exceptions?"
      ],
      "metadata": {
        "id": "5CnletYJDHdh"
      }
    },
    {
      "cell_type": "code",
      "source": [
        "try:\n",
        "    # User input for two numbers\n",
        "    num1 = int(input(\"Enter the first number: \"))\n",
        "    num2 = int(input(\"Enter the second number: \"))\n",
        "\n",
        "    # Attempt division\n",
        "    result = num1 / num2\n",
        "\n",
        "    # Accessing a dictionary key that might not exist\n",
        "    data = {\"Alice\": 90, \"Bob\": 85}\n",
        "    name = input(\"Enter a name to fetch the score: \")\n",
        "    score = data[name]\n",
        "\n",
        "    print(f\"Result of division: {result}\")\n",
        "    print(f\"{name}'s score: {score}\")\n",
        "\n",
        "except ZeroDivisionError:\n",
        "    print(\"Error: Division by zero is not allowed.\")\n",
        "except ValueError:\n",
        "    print(\"Error: Invalid input. Please enter numeric values.\")\n",
        "except KeyError:\n",
        "    print(\"Error: The entered name does not exist in the dictionary.\")\n",
        "except Exception as e:\n",
        "    print(f\"An unexpected error occurred: {e}\")\n",
        "\n",
        "print(\"Program execution completed.\")"
      ],
      "metadata": {
        "id": "6J5429u_DO66"
      },
      "execution_count": null,
      "outputs": []
    },
    {
      "cell_type": "markdown",
      "source": [
        "13. How would you check if a file exists before attempting to read it in Python?"
      ],
      "metadata": {
        "id": "H6wN1YXDDVyl"
      }
    },
    {
      "cell_type": "code",
      "source": [
        "import os\n",
        "\n",
        "file_path = \"example.txt\"\n",
        "\n",
        "if os.path.exists(file_path):\n",
        "    with open(file_path, \"r\") as file:\n",
        "        content = file.read()\n",
        "        print(content)\n",
        "else:\n",
        "    print(f\"Error: The file '{file_path}' does not exist.\")"
      ],
      "metadata": {
        "id": "RhrALVOaDyFY"
      },
      "execution_count": null,
      "outputs": []
    },
    {
      "cell_type": "markdown",
      "source": [
        "14. Write a program that uses the logging module to log both informational and error messages?"
      ],
      "metadata": {
        "id": "uDw4qCWrEOta"
      }
    },
    {
      "cell_type": "code",
      "source": [
        "import logging\n",
        "\n",
        "# Configure logging\n",
        "logging.basicConfig(filename=\"app.log\", level=logging.DEBUG,\n",
        "                    format=\"%(asctime)s - %(levelname)s - %(message)s\")\n",
        "\n",
        "def divide_numbers(a, b):\n",
        "    \"\"\"Function to perform division and log messages.\"\"\"\n",
        "    try:\n",
        "        logging.info(f\"Attempting to divide {a} by {b}.\")\n",
        "        result = a / b\n",
        "        logging.info(f\"Division successful: {a} / {b} = {result}\")\n",
        "        return result\n",
        "    except ZeroDivisionError:\n",
        "        logging.error(f\"Error: Division by zero attempted with a={a}, b={b}\")\n",
        "        return \"Error: Division by zero is not allowed.\"\n",
        "    except Exception as e:\n",
        "        logging.error(f\"Unexpected error: {e}\")\n",
        "        return f\"An unexpected error occurred: {e}\"\n",
        "\n",
        "# Example usage\n",
        "print(divide_numbers(10, 2))  # Successful case\n",
        "print(divide_numbers(5, 0))   # Error case\n",
        "\n",
        "print(\"Check 'app.log' for logged messages.\")"
      ],
      "metadata": {
        "id": "lFCaKPCeEWpr"
      },
      "execution_count": null,
      "outputs": []
    },
    {
      "cell_type": "markdown",
      "source": [
        "15. Write a Python program that prints the content of a file and handles the case when the file is empty?"
      ],
      "metadata": {
        "id": "Wlja1fU7EiJh"
      }
    },
    {
      "cell_type": "code",
      "source": [
        "import os\n",
        "\n",
        "def print_file_content(filename):\n",
        "    \"\"\"Reads and prints the content of a file, handling empty files.\"\"\"\n",
        "    try:\n",
        "        # Check if file exists\n",
        "        if not os.path.exists(filename):\n",
        "            print(f\"Error: The file '{filename}' does not exist.\")\n",
        "            return\n",
        "\n",
        "        # Open the file and read content\n",
        "        with open(filename, \"r\") as file:\n",
        "            content = file.read()\n",
        "\n",
        "            # Check if the file is empty\n",
        "            if not content:\n",
        "                print(f\"The file '{filename}' is empty.\")\n",
        "            else:\n",
        "                print(f\"Contents of '{filename}':\\n{content}\")\n",
        "\n",
        "    except Exception as e:\n",
        "        print(f\"An unexpected error occurred: {e}\")\n",
        "\n",
        "# Example usage\n",
        "filename = \"example.txt\"  # Change this to the file you want to check\n",
        "print_file_content(filename)"
      ],
      "metadata": {
        "id": "_5zWiQBuEwmP"
      },
      "execution_count": null,
      "outputs": []
    },
    {
      "cell_type": "markdown",
      "source": [
        "16.  Demonstrate how to use memory profiling to check the memory usage of a small program?"
      ],
      "metadata": {
        "id": "ZulAxnqSE0RF"
      }
    },
    {
      "cell_type": "code",
      "source": [
        "from memory_profiler import memory_usage\n",
        "\n",
        "def test_function():\n",
        "    numbers = [i for i in range(10**6)]\n",
        "    return sum(numbers)\n",
        "\n",
        "mem_usage = memory_usage(test_function)\n",
        "print(f\"Memory usage: {max(mem_usage)} MiB\")"
      ],
      "metadata": {
        "id": "B7aP_xw7E8cB"
      },
      "execution_count": null,
      "outputs": []
    },
    {
      "cell_type": "markdown",
      "source": [
        "17. Write a Python program to create and write a list of numbers to a file, one number per line?"
      ],
      "metadata": {
        "id": "PnQ8gQUHFQ5a"
      }
    },
    {
      "cell_type": "code",
      "source": [
        "def write_numbers_to_file(filename, numbers):\n",
        "    \"\"\"Writes a list of numbers to a file, one per line.\"\"\"\n",
        "    try:\n",
        "        with open(filename, \"w\") as file:\n",
        "            for number in numbers:\n",
        "                file.write(f\"{number}\\n\")\n",
        "        print(f\"Numbers successfully written to {filename}.\")\n",
        "    except Exception as e:\n",
        "        print(f\"An error occurred: {e}\")\n",
        "\n",
        "# List of numbers to write\n",
        "numbers_list = list(range(1, 21))  # Writing numbers from 1 to 20\n",
        "\n",
        "# Specify the output file name\n",
        "output_file = \"numbers.txt\"\n",
        "\n",
        "# Call the function\n",
        "write_numbers_to_file(output_file, numbers_list)"
      ],
      "metadata": {
        "id": "TlPuYxDoFWuY"
      },
      "execution_count": null,
      "outputs": []
    },
    {
      "cell_type": "markdown",
      "source": [
        "18. How would you implement a basic logging setup that logs to a file with rotation after 1MB?"
      ],
      "metadata": {
        "id": "v63W2jewFesF"
      }
    },
    {
      "cell_type": "code",
      "source": [
        "import logging\n",
        "from logging.handlers import RotatingFileHandler\n",
        "\n",
        "# Configure logging with rotation\n",
        "log_file = \"app.log\"\n",
        "max_size = 1 * 1024 * 1024  # 1MB (in bytes)\n",
        "backup_count = 3  # Keep 3 old log files\n",
        "\n",
        "# Create a rotating file handler\n",
        "handler = RotatingFileHandler(log_file, maxBytes=max_size, backupCount=backup_count)\n",
        "\n",
        "# Define log format\n",
        "formatter = logging.Formatter(\"%(asctime)s - %(levelname)s - %(message)s\")\n",
        "handler.setFormatter(formatter)\n",
        "\n",
        "# Set up logger\n",
        "logger = logging.getLogger(\"MyLogger\")\n",
        "logger.setLevel(logging.DEBUG)  # Log all messages\n",
        "logger.addHandler(handler)\n",
        "\n",
        "# Example log messages\n",
        "for i in range(10000):  # Generate enough logs to trigger rotation\n",
        "    logger.info(f\"Log message {i}\")\n",
        "\n",
        "print(f\"Logging complete. Check '{log_file}' and rotated log files.\")"
      ],
      "metadata": {
        "id": "Fp3hlAl2FtG1"
      },
      "execution_count": null,
      "outputs": []
    },
    {
      "cell_type": "markdown",
      "source": [
        "19. Write a program that handles both IndexError and KeyError using a try-except block?"
      ],
      "metadata": {
        "id": "yd1DzTdQFupY"
      }
    },
    {
      "cell_type": "code",
      "source": [
        "def handle_exceptions():\n",
        "    my_list = [10, 20, 30]\n",
        "    my_dict = {\"Alice\": 85, \"Bob\": 90}\n",
        "\n",
        "    try:\n",
        "        # Attempting to access an invalid list index\n",
        "        print(\"List element:\", my_list[5])\n",
        "\n",
        "        # Attempting to access a missing key in the dictionary\n",
        "        print(\"Dictionary value:\", my_dict[\"Charlie\"])\n",
        "\n",
        "    except IndexError:\n",
        "        print(\"Error: List index is out of range.\")\n",
        "    except KeyError:\n",
        "        print(\"Error: Dictionary key not found.\")\n",
        "    except Exception as e:\n",
        "        print(f\"An unexpected error occurred: {e}\")\n",
        "\n",
        "# Run the function\n",
        "handle_exceptions()"
      ],
      "metadata": {
        "id": "ifNYDebqF8v5"
      },
      "execution_count": null,
      "outputs": []
    },
    {
      "cell_type": "markdown",
      "source": [
        "20. How would you open a file and read its contents using a context manager in Python?"
      ],
      "metadata": {
        "id": "itPDS1eyF-gd"
      }
    },
    {
      "cell_type": "code",
      "source": [
        "# Open and read a file using a context manager\n",
        "filename = \"example.txt\"\n",
        "\n",
        "try:\n",
        "    with open(filename, \"r\") as file:\n",
        "        content = file.read()  # Read the entire file content\n",
        "        print(content)  # Print the content\n",
        "except FileNotFoundError:\n",
        "    print(f\"Error: The file '{filename}' does not exist.\")\n",
        "except Exception as e:\n",
        "    print(f\"An unexpected error occurred: {e}\")"
      ],
      "metadata": {
        "id": "ZAljd9GoGHlq"
      },
      "execution_count": null,
      "outputs": []
    },
    {
      "cell_type": "markdown",
      "source": [
        "21. Write a Python program that reads a file and prints the number of occurrences of a specific word?"
      ],
      "metadata": {
        "id": "HeMI9vODGLmD"
      }
    },
    {
      "cell_type": "code",
      "source": [
        "def count_word_occurrences(filename, word):\n",
        "    \"\"\"Counts the occurrences of a specific word in a file.\"\"\"\n",
        "    try:\n",
        "        with open(filename, \"r\") as file:\n",
        "            content = file.read().lower()  # Read file and convert to lowercase\n",
        "\n",
        "        word_count = content.split().count(word.lower())  # Count occurrences of the word\n",
        "        print(f\"The word '{word}' appears {word_count} times in '{filename}'.\")\n",
        "    except FileNotFoundError:\n",
        "        print(f\"Error: The file '{filename}' does not exist.\")\n",
        "    except Exception as e:\n",
        "        print(f\"An unexpected error occurred: {e}\")\n",
        "\n",
        "# Example usage\n",
        "filename = \"example.txt\"  # Change this to the name of your file\n",
        "word_to_search = \"Python\"  # Change this to the word you want to count\n",
        "count_word_occurrences(filename, word_to_search)"
      ],
      "metadata": {
        "id": "2hTPWuuoGS9M"
      },
      "execution_count": null,
      "outputs": []
    },
    {
      "cell_type": "markdown",
      "source": [
        "22. How can you check if a file is empty before attempting to read its contents?"
      ],
      "metadata": {
        "id": "8-SXCal9GVLP"
      }
    },
    {
      "cell_type": "code",
      "source": [
        "import os\n",
        "\n",
        "filename = \"example.txt\"\n",
        "\n",
        "if os.path.exists(filename) and os.path.getsize(filename) == 0:\n",
        "    print(f\"The file '{filename}' is empty.\")\n",
        "else:\n",
        "    with open(filename, \"r\") as file:\n",
        "        content = file.read()\n",
        "        print(\"File contents:\\n\", content)"
      ],
      "metadata": {
        "id": "91GcalqjGb_v"
      },
      "execution_count": null,
      "outputs": []
    },
    {
      "cell_type": "markdown",
      "source": [
        "23. Write a Python program that writes to a log file when an error occurs during file handling?"
      ],
      "metadata": {
        "id": "xCOwVugCGjL0"
      }
    },
    {
      "cell_type": "code",
      "source": [
        "import logging\n",
        "\n",
        "# Configure logging\n",
        "logging.basicConfig(\n",
        "    filename=\"file_errors.log\",  # Log file name\n",
        "    level=logging.ERROR,  # Log only errors and above\n",
        "    format=\"%(asctime)s - %(levelname)s - %(message)s\"  # Log format\n",
        ")\n",
        "\n",
        "def read_file(filename):\n",
        "    \"\"\"Attempts to read a file and logs errors if they occur.\"\"\"\n",
        "    try:\n",
        "        with open(filename, \"r\") as file:\n",
        "            content = file.read()\n",
        "            print(\"File contents:\\n\", content)\n",
        "    except FileNotFoundError:\n",
        "        error_message = f\"Error: The file '{filename}' was not found.\"\n",
        "        print(error_message)\n",
        "        logging.error(error_message)\n",
        "    except PermissionError:\n",
        "        error_message = f\"Error: Permission denied when accessing '{filename}'.\"\n",
        "        print(error_message)\n",
        "        logging.error(error_message)\n",
        "    except Exception as e:\n",
        "        error_message = f\"Unexpected error while reading '{filename}': {e}\"\n",
        "        print(error_message)\n",
        "        logging.error(error_message)\n",
        "\n",
        "# Example usage\n",
        "filename = \"non_existent_file.txt\"  # Change this to test different scenarios\n",
        "read_file(filename)"
      ],
      "metadata": {
        "id": "qIFU_uegGuSJ"
      },
      "execution_count": null,
      "outputs": []
    }
  ]
}